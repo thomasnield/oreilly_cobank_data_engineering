{
 "cells": [
  {
   "metadata": {},
   "cell_type": "markdown",
   "source": "# Prototype Pipeline",
   "id": "6e365748e5f1fb36"
  },
  {
   "metadata": {},
   "cell_type": "markdown",
   "source": [
    "We are going to merge two data \"pipelines\" straight from NOAA's website that gathers tornado data for both Texas and Oklahoma. We will then clean the data, select only the fields we are interested in, and load it into a SQLite database. \n",
    "\n",
    "**STEP 1:** First import the necessary libraries. "
   ],
   "id": "72179da479b7c762"
  },
  {
   "metadata": {},
   "cell_type": "code",
   "source": [
    "from datetime import datetime\n",
    "import pandas as pd\n",
    "import sqlite3"
   ],
   "id": "c4a7dcc8f4f076af",
   "outputs": [],
   "execution_count": null
  },
  {
   "metadata": {},
   "cell_type": "markdown",
   "source": "**STEP 2:** Declare the start date and end date as variables, which we can re-assign to whatever range we are interested in. ",
   "id": "a39a76fc55d9237b"
  },
  {
   "metadata": {},
   "cell_type": "code",
   "source": [
    "start_date = datetime(2023, 1, 1)\n",
    "end_date = datetime(2023, 12, 31)"
   ],
   "id": "2208df6e7abe9821",
   "outputs": [],
   "execution_count": null
  },
  {
   "metadata": {},
   "cell_type": "markdown",
   "source": "**STEP 3:** \"Hack\" the parameters in the two NOAA url's to use the `start_date` and `end_date`. Then use that create two pandas DataFrames for Texas and Oklahoma respectively. ",
   "id": "b36abe7e39c321a2"
  },
  {
   "metadata": {},
   "cell_type": "code",
   "source": [
    "tx_url = f\"https://www.ncdc.noaa.gov/stormevents/csv?eventType=%28C%29+Tornado&beginDate_mm={start_date.strftime('%m')}&beginDate_dd={start_date.strftime('%d')}&beginDate_yyyy={start_date.year}&endDate_mm={end_date.strftime('%m')}&endDate_dd={end_date.strftime('%d')}&endDate_yyyy={end_date.year}&county=ALL&hailfilter=0.00&tornfilter=0&windfilter=000&sort=DT&submitbutton=Search&statefips=48%2CTEXAS\"\n",
    "ok_url = f\"https://www.ncdc.noaa.gov/stormevents/csv?eventType=%28C%29+Tornado&beginDate_mm={start_date.strftime('%m')}&beginDate_dd={start_date.strftime('%d')}&beginDate_yyyy={start_date.year}&endDate_mm={end_date.strftime('%m')}&endDate_dd={end_date.strftime('%d')}&endDate_yyyy={end_date.year}&county=ALL&hailfilter=0.00&tornfilter=0&windfilter=000&sort=DT&submitbutton=Search&statefips=40%2COKLAHOMA\"\n",
    "\n",
    "tx_df = pd.read_csv(tx_url, dtype={\"BEGIN_TIME\" : str, \"END_TIME\" : str})\n",
    "ok_df = pd.read_csv(ok_url, dtype={\"BEGIN_TIME\" : str, \"END_TIME\" : str})"
   ],
   "id": "d5f9aedc6c46fb92",
   "outputs": [],
   "execution_count": null
  },
  {
   "metadata": {},
   "cell_type": "markdown",
   "source": "**STEP 4:** Append the two DataFrames together. Display the resulting `DataFrame` which we will call `df`. Review the documentation to learn what each of these fields mean: https://www1.ncdc.noaa.gov/pub/data/swdi/stormevents/csvfiles/Storm-Data-Export-Format.pdf. ",
   "id": "6214dbf271ba769a"
  },
  {
   "metadata": {},
   "cell_type": "code",
   "source": [
    "df = pd.concat([tx_df, ok_df])\n",
    "df"
   ],
   "id": "355128c505f1879b",
   "outputs": [],
   "execution_count": null
  },
  {
   "metadata": {},
   "cell_type": "markdown",
   "source": "**STEP 5:** Extract out only the fields of interest. ",
   "id": "b4132cec259640a1"
  },
  {
   "metadata": {},
   "cell_type": "code",
   "source": [
    "fields = [\"CZ_NAME_STR\",\"BEGIN_LOCATION\",\"BEGIN_DATE\",\"BEGIN_TIME\",\"TOR_F_SCALE\",\n",
    "          \"DEATHS_DIRECT\",\"INJURIES_DIRECT\",\"DAMAGE_PROPERTY_NUM\",\"DAMAGE_CROPS_NUM\",\n",
    "          \"STATE_ABBR\",\"END_LOCATION\",\"END_DATE\",\"END_TIME\",\n",
    "          \"EVENT_NARRATIVE\",\"EPISODE_NARRATIVE\"]\n",
    "\n",
    "df.drop(columns=[col for col in df if col not in fields], inplace=True)\n"
   ],
   "id": "f83635847ea87ce1",
   "outputs": [],
   "execution_count": null
  },
  {
   "metadata": {},
   "cell_type": "markdown",
   "source": "**STEP 6:** Convert date/time fields to a single datetime in new fields. Clean up the times so they have 4 digits and a colon. Then Convert those new fields to UTC. Finally, drop the original date/time fields.",
   "id": "f5a099607cc2f48"
  },
  {
   "metadata": {},
   "cell_type": "code",
   "source": [
    "def clean_time(time_str):\n",
    "    c = f\"{'0' * (4-len(time_str))}{time_str}\"\n",
    "    return c[0:2] + \":\" + c[2:4]\n",
    "\n",
    "df.insert(2, 'BEGIN_DATETIME', pd.to_datetime(df['BEGIN_DATE'] + ' ' + df['BEGIN_TIME'].apply(clean_time))  \\\n",
    "    .dt.tz_localize('US/Central') \\\n",
    "    .dt.tz_convert('UTC')\n",
    "          )\n",
    "\n",
    "df.insert(3, 'END_DATETIME', pd.to_datetime(df['END_DATE'] + ' ' + df['END_TIME'].apply(clean_time))  \\\n",
    "    .dt.tz_localize('US/Central') \\\n",
    "    .dt.tz_convert('UTC')\n",
    ")\n",
    "\n",
    "df.drop([\"BEGIN_DATE\", \"BEGIN_TIME\", \"END_DATE\", \"END_TIME\"], axis=1, inplace=True)\n",
    "\n",
    "df"
   ],
   "id": "f9d73d533e4bd4f9",
   "outputs": [],
   "execution_count": null
  },
  {
   "metadata": {},
   "cell_type": "markdown",
   "source": "**STEP 7:** Rename a fiew fields to make them easier to identify for end users. ",
   "id": "c87580730d283350"
  },
  {
   "metadata": {},
   "cell_type": "code",
   "source": [
    "df.rename(columns= { \n",
    "    \"CZ_NAME_STR\": \"COUNTY_NAME\",\n",
    "    \"DAMAGE_PROPERTY_NUM\" :\"DAMAGE_PROPERTY_USD\", \n",
    "    \"DAMAGE_CROPS_NUM\" :\"DAMAGE_CROPS_USD\"\n",
    "})\n"
   ],
   "id": "65cdd322444ff13e",
   "outputs": [],
   "execution_count": null
  },
  {
   "metadata": {},
   "cell_type": "markdown",
   "source": "**STEP 8:** Load the data into a SQLite database file, into a table called `TORNADO_TRACK`. ",
   "id": "3f8408812dc8551b"
  },
  {
   "metadata": {},
   "cell_type": "code",
   "source": [
    "conn = sqlite3.connect('my_database.db')\n",
    "df.to_sql(\"TORNADO_TRACK\", conn, if_exists='replace', index=False)\n",
    "\n",
    "# 4. VERIFY DATA IS LOADED USING A SELECT query \n",
    "sql_df = pd.read_sql(\"SELECT * FROM TORNADO_TRACK\", conn)\n",
    "with pd.option_context('display.max_rows', None, 'display.max_colwidth', None):\n",
    "  display(sql_df)\n",
    "\n",
    "conn.close()"
   ],
   "id": "47231ef40365fbb3",
   "outputs": [],
   "execution_count": null
  }
 ],
 "metadata": {
  "kernelspec": {
   "display_name": "Python 3",
   "language": "python",
   "name": "python3"
  },
  "language_info": {
   "codemirror_mode": {
    "name": "ipython",
    "version": 2
   },
   "file_extension": ".py",
   "mimetype": "text/x-python",
   "name": "python",
   "nbconvert_exporter": "python",
   "pygments_lexer": "ipython2",
   "version": "2.7.6"
  }
 },
 "nbformat": 4,
 "nbformat_minor": 5
}
